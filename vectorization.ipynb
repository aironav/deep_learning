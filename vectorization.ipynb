{
 "cells": [
  {
   "cell_type": "code",
   "execution_count": 8,
   "id": "261dc5e4-ce4e-47d0-b713-fb8563fa8134",
   "metadata": {},
   "outputs": [],
   "source": [
    "import time \n",
    "import numpy as np"
   ]
  },
  {
   "cell_type": "code",
   "execution_count": 11,
   "id": "83d7e53a-4460-4ab3-a396-a12c51e141e7",
   "metadata": {},
   "outputs": [
    {
     "name": "stdout",
     "output_type": "stream",
     "text": [
      "250416.37971248425\n",
      "vectorized version:5.478143692016602ms\n",
      "250416.3797124767\n",
      "for loop:618.8929080963135ms\n"
     ]
    }
   ],
   "source": [
    "a = np.random.rand(1000000)\n",
    "b = np.random.rand(1000000)\n",
    "\n",
    "tic = time.time()\n",
    "c = np.dot(a,b)\n",
    "toc = time.time()\n",
    "\n",
    "print(c)\n",
    "print('vectorized version:' + str(1000*(toc-tic)) + 'ms')\n",
    "\n",
    "c = 0\n",
    "tic = time.time()\n",
    "for i in range(1000000):\n",
    "    c += a[i] * b[i]\n",
    "toc = time.time()\n",
    "\n",
    "print(c)\n",
    "print('for loop:' + str(1000*(toc-tic)) + 'ms')"
   ]
  },
  {
   "cell_type": "code",
   "execution_count": 12,
   "id": "923d16fa-b143-4353-8b1f-63a0d1bcb34f",
   "metadata": {},
   "outputs": [],
   "source": [
    "# brodcasting example"
   ]
  },
  {
   "cell_type": "code",
   "execution_count": 17,
   "id": "950f2cee-6577-48b0-9d1b-79ddb9d7887c",
   "metadata": {},
   "outputs": [
    {
     "name": "stdout",
     "output_type": "stream",
     "text": [
      "[[12 14 16 18]\n",
      " [22 55 77  9]\n",
      " [ 2  4  6  8]]\n"
     ]
    }
   ],
   "source": [
    "a = np.array([[12,14,16,18],\n",
    "     [22,55,77,9],\n",
    "     [2,4,6,8]])\n",
    "print(a)"
   ]
  },
  {
   "cell_type": "code",
   "execution_count": 20,
   "id": "0c4147f0-dfd2-4d63-9f5d-c3ff31349f6e",
   "metadata": {},
   "outputs": [
    {
     "name": "stdout",
     "output_type": "stream",
     "text": [
      "[36 73 99 35]\n"
     ]
    }
   ],
   "source": [
    "cal = a.sum(axis=0)\n",
    "print(cal)"
   ]
  },
  {
   "cell_type": "code",
   "execution_count": 21,
   "id": "97f36b02-dd8e-4729-8699-1b44201ec703",
   "metadata": {},
   "outputs": [
    {
     "name": "stdout",
     "output_type": "stream",
     "text": [
      "[[33.33333333 19.17808219 16.16161616 51.42857143]\n",
      " [61.11111111 75.34246575 77.77777778 25.71428571]\n",
      " [ 5.55555556  5.47945205  6.06060606 22.85714286]]\n"
     ]
    }
   ],
   "source": [
    "percentage = 100 * a/cal.reshape(1,4)\n",
    "print(percentage)"
   ]
  },
  {
   "cell_type": "code",
   "execution_count": 22,
   "id": "816ccbe9-fe79-4a64-a106-810858ecf3cc",
   "metadata": {},
   "outputs": [],
   "source": [
    "# numpy vectors"
   ]
  },
  {
   "cell_type": "code",
   "execution_count": 23,
   "id": "0aaa3629-cf80-46c1-9e32-bb3e51e4ef72",
   "metadata": {},
   "outputs": [],
   "source": [
    "a = np.random.randn(5)"
   ]
  },
  {
   "cell_type": "code",
   "execution_count": 24,
   "id": "28b61880-53e7-4661-90d3-784443f17743",
   "metadata": {},
   "outputs": [
    {
     "name": "stdout",
     "output_type": "stream",
     "text": [
      "[-0.18524556 -0.93701131  0.13428154  1.45943365  0.07023347]\n"
     ]
    }
   ],
   "source": [
    "print(a)"
   ]
  },
  {
   "cell_type": "code",
   "execution_count": 25,
   "id": "0e18126c-b7c4-47d3-ae3b-13c5d9f5efae",
   "metadata": {},
   "outputs": [
    {
     "name": "stdout",
     "output_type": "stream",
     "text": [
      "[-0.18524556 -0.93701131  0.13428154  1.45943365  0.07023347]\n"
     ]
    }
   ],
   "source": [
    "print(a.T)"
   ]
  },
  {
   "cell_type": "code",
   "execution_count": 30,
   "id": "b259adbc-1dac-4d79-bcb2-196ae3341702",
   "metadata": {},
   "outputs": [
    {
     "name": "stdout",
     "output_type": "stream",
     "text": [
      "3.065216963527192\n",
      "in ms:0.37407875061035156\n"
     ]
    }
   ],
   "source": [
    "tic = time.time() \n",
    "print(np.dot(a,a.T))\n",
    "toc = time.time()\n",
    "\n",
    "print('in ms:' + str(1000*(toc - tic)))"
   ]
  },
  {
   "cell_type": "code",
   "execution_count": 31,
   "id": "1573d7ff-dd28-4614-8490-a7075971faa1",
   "metadata": {},
   "outputs": [],
   "source": [
    "k = a.T"
   ]
  },
  {
   "cell_type": "code",
   "execution_count": 32,
   "id": "ba7ba767-edd4-402b-94bf-15c3f906d4c9",
   "metadata": {},
   "outputs": [
    {
     "data": {
      "text/plain": [
       "array([-0.18524556, -0.93701131,  0.13428154,  1.45943365,  0.07023347])"
      ]
     },
     "execution_count": 32,
     "metadata": {},
     "output_type": "execute_result"
    }
   ],
   "source": [
    "k"
   ]
  },
  {
   "cell_type": "code",
   "execution_count": 33,
   "id": "ef4e2c2e-3fa0-4145-89fd-7ffa4d5c6d3e",
   "metadata": {},
   "outputs": [
    {
     "name": "stdout",
     "output_type": "stream",
     "text": [
      "[0.03431592 0.8779902  0.01803153 2.12994657 0.00493274]\n",
      "in ms:1.9192695617675781\n"
     ]
    }
   ],
   "source": [
    "tic = time.time() \n",
    "print(a * k)\n",
    "toc = time.time()\n",
    "\n",
    "print('in ms:' + str(1000*(toc - tic)))"
   ]
  },
  {
   "cell_type": "code",
   "execution_count": null,
   "id": "a5d74188-3503-4404-ae8b-ea1d0de19e6d",
   "metadata": {},
   "outputs": [],
   "source": []
  }
 ],
 "metadata": {
  "kernelspec": {
   "display_name": "Python 3 (ipykernel)",
   "language": "python",
   "name": "python3"
  },
  "language_info": {
   "codemirror_mode": {
    "name": "ipython",
    "version": 3
   },
   "file_extension": ".py",
   "mimetype": "text/x-python",
   "name": "python",
   "nbconvert_exporter": "python",
   "pygments_lexer": "ipython3",
   "version": "3.9.5"
  }
 },
 "nbformat": 4,
 "nbformat_minor": 5
}
